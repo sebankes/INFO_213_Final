{
 "cells": [
  {
   "cell_type": "markdown",
   "metadata": {},
   "source": [
    "# INFO 250: Data Visualization\n",
    "____\n",
    "\n",
    "### Project 2A -  Stephanie Bankes\n",
    "___\n",
    "\n",
    "### Dataset: Suicide Rates Overview 1985 to 2016 \n",
    "---\n"
   ]
  },
  {
   "cell_type": "code",
   "execution_count": 23,
   "metadata": {},
   "outputs": [],
   "source": [
    "import pandas as pd\n",
    "import numpy as np\n",
    "import matplotlib.pyplot as plt\n",
    "%matplotlib inline  "
   ]
  },
  {
   "cell_type": "markdown",
   "metadata": {},
   "source": [
    "#### 1. Identify a dataset for your final project.\n",
    "For this project, I will be using the dataset, \"Suicide Rates Overview 1985 to 2016\", that was posted on Kaggle. The link to the dataset is [here](https://www.kaggle.com/russellyates88/suicide-rates-overview-1985-to-2016/version/1). The first five lines of the dataset are shown below. \n",
    "\n",
    "___"
   ]
  },
  {
   "cell_type": "code",
   "execution_count": 6,
   "metadata": {},
   "outputs": [],
   "source": [
    "# Imports the dataset\n",
    "df = pd.read_csv(\"master.csv\")"
   ]
  },
  {
   "cell_type": "code",
   "execution_count": 8,
   "metadata": {},
   "outputs": [
    {
     "data": {
      "text/html": [
       "<div>\n",
       "<style scoped>\n",
       "    .dataframe tbody tr th:only-of-type {\n",
       "        vertical-align: middle;\n",
       "    }\n",
       "\n",
       "    .dataframe tbody tr th {\n",
       "        vertical-align: top;\n",
       "    }\n",
       "\n",
       "    .dataframe thead th {\n",
       "        text-align: right;\n",
       "    }\n",
       "</style>\n",
       "<table border=\"1\" class=\"dataframe\">\n",
       "  <thead>\n",
       "    <tr style=\"text-align: right;\">\n",
       "      <th></th>\n",
       "      <th>country</th>\n",
       "      <th>year</th>\n",
       "      <th>sex</th>\n",
       "      <th>age</th>\n",
       "      <th>suicides_no</th>\n",
       "      <th>population</th>\n",
       "      <th>suicides/100k pop</th>\n",
       "      <th>country-year</th>\n",
       "      <th>HDI for year</th>\n",
       "      <th>gdp_for_year ($)</th>\n",
       "      <th>gdp_per_capita ($)</th>\n",
       "      <th>generation</th>\n",
       "    </tr>\n",
       "  </thead>\n",
       "  <tbody>\n",
       "    <tr>\n",
       "      <th>0</th>\n",
       "      <td>Albania</td>\n",
       "      <td>1987</td>\n",
       "      <td>male</td>\n",
       "      <td>15-24 years</td>\n",
       "      <td>21</td>\n",
       "      <td>312900</td>\n",
       "      <td>6.71</td>\n",
       "      <td>Albania1987</td>\n",
       "      <td>NaN</td>\n",
       "      <td>2,156,624,900</td>\n",
       "      <td>796</td>\n",
       "      <td>Generation X</td>\n",
       "    </tr>\n",
       "    <tr>\n",
       "      <th>1</th>\n",
       "      <td>Albania</td>\n",
       "      <td>1987</td>\n",
       "      <td>male</td>\n",
       "      <td>35-54 years</td>\n",
       "      <td>16</td>\n",
       "      <td>308000</td>\n",
       "      <td>5.19</td>\n",
       "      <td>Albania1987</td>\n",
       "      <td>NaN</td>\n",
       "      <td>2,156,624,900</td>\n",
       "      <td>796</td>\n",
       "      <td>Silent</td>\n",
       "    </tr>\n",
       "    <tr>\n",
       "      <th>2</th>\n",
       "      <td>Albania</td>\n",
       "      <td>1987</td>\n",
       "      <td>female</td>\n",
       "      <td>15-24 years</td>\n",
       "      <td>14</td>\n",
       "      <td>289700</td>\n",
       "      <td>4.83</td>\n",
       "      <td>Albania1987</td>\n",
       "      <td>NaN</td>\n",
       "      <td>2,156,624,900</td>\n",
       "      <td>796</td>\n",
       "      <td>Generation X</td>\n",
       "    </tr>\n",
       "    <tr>\n",
       "      <th>3</th>\n",
       "      <td>Albania</td>\n",
       "      <td>1987</td>\n",
       "      <td>male</td>\n",
       "      <td>75+ years</td>\n",
       "      <td>1</td>\n",
       "      <td>21800</td>\n",
       "      <td>4.59</td>\n",
       "      <td>Albania1987</td>\n",
       "      <td>NaN</td>\n",
       "      <td>2,156,624,900</td>\n",
       "      <td>796</td>\n",
       "      <td>G.I. Generation</td>\n",
       "    </tr>\n",
       "    <tr>\n",
       "      <th>4</th>\n",
       "      <td>Albania</td>\n",
       "      <td>1987</td>\n",
       "      <td>male</td>\n",
       "      <td>25-34 years</td>\n",
       "      <td>9</td>\n",
       "      <td>274300</td>\n",
       "      <td>3.28</td>\n",
       "      <td>Albania1987</td>\n",
       "      <td>NaN</td>\n",
       "      <td>2,156,624,900</td>\n",
       "      <td>796</td>\n",
       "      <td>Boomers</td>\n",
       "    </tr>\n",
       "  </tbody>\n",
       "</table>\n",
       "</div>"
      ],
      "text/plain": [
       "   country  year     sex          age  suicides_no  population  \\\n",
       "0  Albania  1987    male  15-24 years           21      312900   \n",
       "1  Albania  1987    male  35-54 years           16      308000   \n",
       "2  Albania  1987  female  15-24 years           14      289700   \n",
       "3  Albania  1987    male    75+ years            1       21800   \n",
       "4  Albania  1987    male  25-34 years            9      274300   \n",
       "\n",
       "   suicides/100k pop country-year  HDI for year  gdp_for_year ($)   \\\n",
       "0               6.71  Albania1987           NaN      2,156,624,900   \n",
       "1               5.19  Albania1987           NaN      2,156,624,900   \n",
       "2               4.83  Albania1987           NaN      2,156,624,900   \n",
       "3               4.59  Albania1987           NaN      2,156,624,900   \n",
       "4               3.28  Albania1987           NaN      2,156,624,900   \n",
       "\n",
       "   gdp_per_capita ($)       generation  \n",
       "0                 796     Generation X  \n",
       "1                 796           Silent  \n",
       "2                 796     Generation X  \n",
       "3                 796  G.I. Generation  \n",
       "4                 796          Boomers  "
      ]
     },
     "execution_count": 8,
     "metadata": {},
     "output_type": "execute_result"
    }
   ],
   "source": [
    "# show the first 5 lines\n",
    "df.head()"
   ]
  },
  {
   "cell_type": "markdown",
   "metadata": {},
   "source": [
    "#### 2. Describe the dataset: \n",
    "##### a.  What it is about\n",
    "Suicide is the 10th leading cause of death in the United States, and there were approximately 1,400,000 suicide attempts in  2017 ([afsp](https://afsp.org/about-suicide/suicide-statistics/)). Understanding the trends behind deaths by suicide, and the main groups of people affected can help prevent future suicides and save lives. \n",
    "\n",
    "This dataset describes suicide rates grouped by country, year and age population, and sex. So, for each country there is a row for each unique combination of year, population and sex. \n",
    "    \n",
    "I do not have information about how the datasets were combined, but I assume that the first, third, and fourth datasets were used to form rows such as number of suicides, country and age, while the second dataset was used to add inofrmation such as gdp and econimic information about each country. Overall, the dataet has 27820 rows and 12 columns, which represent a total of 6,748,420 people who died by suicide from 1985 to 2015. The columns in the dataset are: \n",
    "\n",
    "    country - Counrty in  which suicides occured\n",
    "    year - Year which suicides occured  \n",
    "    sex - Gender of people who died by suicide\n",
    "    age _ age grouping of people who died by suicide, contains 6 different groups\n",
    "    suicides_no - Number of people who died by suicide wihtin the conditions of the row \n",
    "    population - Population of the Country\n",
    "    suicides/100k pop -  Number of suicides per 100K people in the country\n",
    "    country-year - A combined string of country and year, to be deleted \n",
    "    HDI for year - Human development Index for that country in that year; HDI is a value used to rate the development of a country based on factors such as life expectancy, per-capita income, and education.\n",
    "    gdp_for_year (USD)  -  gdp (total monetary value of all goods and services produced) per year in the selected country\n",
    "    gdp_per_capita (USD) - gdp (total monetary value of all goods and services produced) per person in the selected country\n",
    "    generation - a string representing the generation that the people who died by suicide belonged in "
   ]
  },
  {
   "cell_type": "code",
   "execution_count": 10,
   "metadata": {},
   "outputs": [
    {
     "data": {
      "text/plain": [
       "(27820, 12)"
      ]
     },
     "execution_count": 10,
     "metadata": {},
     "output_type": "execute_result"
    }
   ],
   "source": [
    "# Number of rows and columns in the dataset\n",
    "df.shape"
   ]
  },
  {
   "cell_type": "code",
   "execution_count": 11,
   "metadata": {},
   "outputs": [
    {
     "data": {
      "text/plain": [
       "6748420"
      ]
     },
     "execution_count": 11,
     "metadata": {},
     "output_type": "execute_result"
    }
   ],
   "source": [
    "# Total number of suicides represented in the dataset. \n",
    "sum(df.suicides_no)"
   ]
  },
  {
   "cell_type": "code",
   "execution_count": 22,
   "metadata": {},
   "outputs": [
    {
     "data": {
      "text/plain": [
       "Index(['country', 'year', 'sex', 'age', 'suicides_no', 'population',\n",
       "       'suicides/100k pop', 'country-year', 'HDI for year',\n",
       "       ' gdp_for_year ($) ', 'gdp_per_capita ($)', 'generation'],\n",
       "      dtype='object')"
      ]
     },
     "execution_count": 22,
     "metadata": {},
     "output_type": "execute_result"
    }
   ],
   "source": [
    "# Name of all the columns in the dataset\n",
    "df.columns"
   ]
  },
  {
   "cell_type": "markdown",
   "metadata": {},
   "source": [
    "##### b. Other information about the dataset a designer should know\n",
    "I obtained this dataset from Kaggle, where it was posted by user \"Rusty\". Rusty combined data from multiple sources to form this dataset. The dataset that were used to form this dataset are: \n",
    "    \n",
    "    1. United Nations Development Program. (2018). Human development index (HDI). Retrieved from http://hdr.undp.org/en/indicators/137506  \n",
    "    2. World Bank. (2018). World development indicators: GDP (current US) by country:1985 to 2016. Retrieved from http://databank.worldbank.org/data/source/world-development-indicators# \n",
    "    3. [Szamil]. (2017). Suicide in the Twenty-First Century [dataset]. Retrieved from https://www.kaggle.com/szamil/suicide-in-the-twenty-first-century/notebook\n",
    "    4. World Health Organization. (2018). Suicide prevention. Retrieved from http://www.who.int/mental_health/suicide-prevention/en/ \n",
    "    \n",
    "The data set begins in the year 1985, and ends in 2015. The designer should be aware that each row does not represent a suicide, but rather reresents group of suicides. So this means that in order to get information about the number of suicides in a certain condition, one must total the suicide_no column.\n",
    "\n",
    "I have changed the names of some of the rows slightly, so that they are easier to read, and do not contain special characters or spaces. I have also deleted country-year, and HDI for year. Country-year does not provide any insight for us. The majority (19456) of HDI for year is missing values. The rest of the columns do not have any missing values. \n",
    "\n",
    "While there is no missing valaues, the designer should be aware that not every Country is represetned equally, as shown by the value counts below. This means that not every year (or gener or age group)  for each country is represented. For example, Mongolia is only rreprented by 10 rows of data. The designer should be aware of this, and how it can become misleading. \n"
   ]
  },
  {
   "cell_type": "code",
   "execution_count": 71,
   "metadata": {},
   "outputs": [
    {
     "data": {
      "text/plain": [
       "Netherlands               382\n",
       "Austria                   382\n",
       "Mauritius                 382\n",
       "Iceland                   382\n",
       "Israel                    372\n",
       "United Kingdom            372\n",
       "Republic of Korea         372\n",
       "Japan                     372\n",
       "United States             372\n",
       "Argentina                 372\n",
       "Mexico                    372\n",
       "Puerto Rico               372\n",
       "Singapore                 372\n",
       "Malta                     372\n",
       "Colombia                  372\n",
       "Ecuador                   372\n",
       "Chile                     372\n",
       "Luxembourg                372\n",
       "Brazil                    372\n",
       "Spain                     372\n",
       "Greece                    372\n",
       "Italy                     372\n",
       "Belgium                   372\n",
       "Norway                    360\n",
       "France                    360\n",
       "Guatemala                 360\n",
       "Ireland                   360\n",
       "Bulgaria                  360\n",
       "Australia                 360\n",
       "Costa Rica                360\n",
       "                         ... \n",
       "Bahrain                   252\n",
       "Estonia                   252\n",
       "Switzerland               252\n",
       "Belarus                   252\n",
       "Latvia                    252\n",
       "South Africa              240\n",
       "Serbia                    216\n",
       "Seychelles                216\n",
       "Jamaica                   204\n",
       "Azerbaijan                192\n",
       "Philippines               180\n",
       "Qatar                     178\n",
       "Cyprus                    178\n",
       "Aruba                     168\n",
       "Kiribati                  132\n",
       "Fiji                      132\n",
       "Sri Lanka                 132\n",
       "Montenegro                120\n",
       "Maldives                  120\n",
       "Turkey                     84\n",
       "United Arab Emirates       72\n",
       "Nicaragua                  72\n",
       "Saint Kitts and Nevis      36\n",
       "Oman                       36\n",
       "San Marino                 36\n",
       "Bosnia and Herzegovina     24\n",
       "Dominica                   12\n",
       "Macau                      12\n",
       "Cabo Verde                 12\n",
       "Mongolia                   10\n",
       "Name: country, Length: 101, dtype: int64"
      ]
     },
     "execution_count": 71,
     "metadata": {},
     "output_type": "execute_result"
    }
   ],
   "source": [
    "df.country.value_counts()"
   ]
  },
  {
   "cell_type": "code",
   "execution_count": 34,
   "metadata": {},
   "outputs": [],
   "source": [
    "# Rename the columns names\n",
    "df.columns = ['country', 'year', 'sex', 'age', 'suicides_no', 'population',\n",
    "       'suicides_per_100K', 'country-year', 'HDI_for_year',\n",
    "       'gdp_for_year', 'gdp_per_capita', 'generation']"
   ]
  },
  {
   "cell_type": "code",
   "execution_count": 35,
   "metadata": {},
   "outputs": [
    {
     "data": {
      "text/plain": [
       "country                  0\n",
       "year                     0\n",
       "sex                      0\n",
       "age                      0\n",
       "suicides_no              0\n",
       "population               0\n",
       "suicides_per_100K        0\n",
       "country-year             0\n",
       "HDI_for_year         19456\n",
       "gdp_for_year             0\n",
       "gdp_per_capita           0\n",
       "generation               0\n",
       "dtype: int64"
      ]
     },
     "execution_count": 35,
     "metadata": {},
     "output_type": "execute_result"
    }
   ],
   "source": [
    "# Number of missing values in each columns \n",
    "df.isna().sum()"
   ]
  },
  {
   "cell_type": "code",
   "execution_count": 53,
   "metadata": {},
   "outputs": [],
   "source": [
    "# Drop unneeded rows\n",
    "df.drop(\"HDI_for_year\", axis = 1, inplace = True)\n",
    "df.drop(\"country-year\", axis = 1, inplace = True)"
   ]
  },
  {
   "cell_type": "markdown",
   "metadata": {},
   "source": [
    "##### c. Statistical descriptions of the variables\n",
    "The following section contains satistical infromation of the features that I beilve will be the most helpful to my dataset. I have not included some features that I believe were repetitive or not helpful. \n",
    "\n",
    "Country - The list of countires that are represented in the dataset is shown below."
   ]
  },
  {
   "cell_type": "code",
   "execution_count": 72,
   "metadata": {},
   "outputs": [
    {
     "data": {
      "text/plain": [
       "array(['Albania', 'Antigua and Barbuda', 'Argentina', 'Armenia', 'Aruba',\n",
       "       'Australia', 'Austria', 'Azerbaijan', 'Bahamas', 'Bahrain',\n",
       "       'Barbados', 'Belarus', 'Belgium', 'Belize',\n",
       "       'Bosnia and Herzegovina', 'Brazil', 'Bulgaria', 'Cabo Verde',\n",
       "       'Canada', 'Chile', 'Colombia', 'Costa Rica', 'Croatia', 'Cuba',\n",
       "       'Cyprus', 'Czech Republic', 'Denmark', 'Dominica', 'Ecuador',\n",
       "       'El Salvador', 'Estonia', 'Fiji', 'Finland', 'France', 'Georgia',\n",
       "       'Germany', 'Greece', 'Grenada', 'Guatemala', 'Guyana', 'Hungary',\n",
       "       'Iceland', 'Ireland', 'Israel', 'Italy', 'Jamaica', 'Japan',\n",
       "       'Kazakhstan', 'Kiribati', 'Kuwait', 'Kyrgyzstan', 'Latvia',\n",
       "       'Lithuania', 'Luxembourg', 'Macau', 'Maldives', 'Malta',\n",
       "       'Mauritius', 'Mexico', 'Mongolia', 'Montenegro', 'Netherlands',\n",
       "       'New Zealand', 'Nicaragua', 'Norway', 'Oman', 'Panama', 'Paraguay',\n",
       "       'Philippines', 'Poland', 'Portugal', 'Puerto Rico', 'Qatar',\n",
       "       'Republic of Korea', 'Romania', 'Russian Federation',\n",
       "       'Saint Kitts and Nevis', 'Saint Lucia',\n",
       "       'Saint Vincent and Grenadines', 'San Marino', 'Serbia',\n",
       "       'Seychelles', 'Singapore', 'Slovakia', 'Slovenia', 'South Africa',\n",
       "       'Spain', 'Sri Lanka', 'Suriname', 'Sweden', 'Switzerland',\n",
       "       'Thailand', 'Trinidad and Tobago', 'Turkey', 'Turkmenistan',\n",
       "       'Ukraine', 'United Arab Emirates', 'United Kingdom',\n",
       "       'United States', 'Uruguay', 'Uzbekistan'], dtype=object)"
      ]
     },
     "execution_count": 72,
     "metadata": {},
     "output_type": "execute_result"
    }
   ],
   "source": [
    "# List of unique countries\n",
    "df.country.unique()"
   ]
  },
  {
   "cell_type": "markdown",
   "metadata": {},
   "source": [
    "Year - Every year from 1985 to 2016 is represented in the dataset. However, the years are not all uniformly reprented. This indicates that there is some missing data. When creating visualizations, I must be careful not to be misleading. Most e values are similar, however the \"end\" ranges of the dataset are missing some. So the data may not have collected all of 2016 and 1985.  The below chart shows the counts of each year in the datset. "
   ]
  },
  {
   "cell_type": "code",
   "execution_count": 74,
   "metadata": {},
   "outputs": [
    {
     "data": {
      "text/plain": [
       "<matplotlib.axes._subplots.AxesSubplot at 0x17e1b6fb390>"
      ]
     },
     "execution_count": 74,
     "metadata": {},
     "output_type": "execute_result"
    },
    {
     "data": {
      "image/png": "[encoded data removed]",
      "text/plain": [
       "<Figure size 432x288 with 1 Axes>"
      ]
     },
     "metadata": {
      "needs_background": "light"
     },
     "output_type": "display_data"
    }
   ],
   "source": [
    "df.year.value_counts(sort = True).plot.bar()"
   ]
  },
  {
   "cell_type": "markdown",
   "metadata": {},
   "source": [
    "Age - Age is a categorical variable. Each age group is represented in every country, so it is uniformly distributed. The chart below shows the distibution. "
   ]
  },
  {
   "cell_type": "code",
   "execution_count": 75,
   "metadata": {},
   "outputs": [
    {
     "data": {
      "text/plain": [
       "<matplotlib.axes._subplots.AxesSubplot at 0x17e1b914b38>"
      ]
     },
     "execution_count": 75,
     "metadata": {},
     "output_type": "execute_result"
    },
    {
     "data": {
      "image/png": "[encoded data removed]",
      "text/plain": [
       "<Figure size 432x288 with 1 Axes>"
      ]
     },
     "metadata": {
      "needs_background": "light"
     },
     "output_type": "display_data"
    }
   ],
   "source": [
    "df.age.value_counts(sort = True).plot.bar()"
   ]
  },
  {
   "cell_type": "markdown",
   "metadata": {},
   "source": [
    "Sex- Sex is uniformaly distibuted, because each combination of country, and age. Sex only has two values. The distribution is below. "
   ]
  },
  {
   "cell_type": "code",
   "execution_count": 76,
   "metadata": {},
   "outputs": [
    {
     "data": {
      "text/plain": [
       "<matplotlib.axes._subplots.AxesSubplot at 0x17e1b914390>"
      ]
     },
     "execution_count": 76,
     "metadata": {},
     "output_type": "execute_result"
    },
    {
     "data": {
      "image/png": "[encoded data removed]",
      "text/plain": [
       "<Figure size 432x288 with 1 Axes>"
      ]
     },
     "metadata": {
      "needs_background": "light"
     },
     "output_type": "display_data"
    }
   ],
   "source": [
    "df.sex.value_counts(sort = True).plot.bar()"
   ]
  },
  {
   "cell_type": "markdown",
   "metadata": {},
   "source": [
    "suicides_no - This is the most important feature in this dataset. The maximum value is 22338, while the minimum value is 0. The mean is 242.574, while the standard devition is 242.574. Overall the range for the dataset is high, and it is not very evenly distrbuted. The plot below shows the distribtuion of suicides_no split into bins 10 bins. We can see the majority of the data is in the lower values of the dataset.  "
   ]
  },
  {
   "cell_type": "code",
   "execution_count": 86,
   "metadata": {},
   "outputs": [
    {
     "data": {
      "text/plain": [
       "<matplotlib.axes._subplots.AxesSubplot at 0x17e1b0ecc18>"
      ]
     },
     "execution_count": 86,
     "metadata": {},
     "output_type": "execute_result"
    },
    {
     "data": {
      "image/png": "[encoded data removed]",
      "text/plain": [
       "<Figure size 432x288 with 1 Axes>"
      ]
     },
     "metadata": {
      "needs_background": "light"
     },
     "output_type": "display_data"
    }
   ],
   "source": [
    "pd.cut(df.suicides_no, 10 ).value_counts(sort = True).plot.bar()"
   ]
  },
  {
   "cell_type": "markdown",
   "metadata": {},
   "source": [
    "Population - Population follows a similar trend to suicide rates. The mean population is 1844793, while the standard deviation is 3911779. The max population is 43805214 and the min is 278. The plot belows shows the distribution of population cut into 10 bins. "
   ]
  },
  {
   "cell_type": "code",
   "execution_count": 87,
   "metadata": {},
   "outputs": [
    {
     "data": {
      "text/plain": [
       "<matplotlib.axes._subplots.AxesSubplot at 0x17e1b0a1780>"
      ]
     },
     "execution_count": 87,
     "metadata": {},
     "output_type": "execute_result"
    },
    {
     "data": {
      "image/png": "[encoded data removed]",
      "text/plain": [
       "<Figure size 432x288 with 1 Axes>"
      ]
     },
     "metadata": {
      "needs_background": "light"
     },
     "output_type": "display_data"
    }
   ],
   "source": [
    "pd.cut(df.population, 10 ).value_counts(sort = True).plot.bar()"
   ]
  },
  {
   "cell_type": "markdown",
   "metadata": {},
   "source": [
    "gdp_per_year - Has a large range and variation, as shown in the distribtion below. The max value is 18120714000000 and the min value is 46919625. The mean of the dataframe is 445580969025, while the standard deviation is 1453609985940. The distribtion of  gdp_per_year cut into 20 bins is shown below. "
   ]
  },
  {
   "cell_type": "code",
   "execution_count": 98,
   "metadata": {},
   "outputs": [],
   "source": [
    "# Converts gdp_per_year to interger\n",
    "df.gdp_for_year = df.gdp_for_year.str.replace(',', '')"
   ]
  },
  {
   "cell_type": "code",
   "execution_count": 103,
   "metadata": {},
   "outputs": [],
   "source": [
    "# Converts gdp_per_year to interger\n",
    "df.gdp_for_year = pd.to_numeric(df.gdp_for_year)"
   ]
  },
  {
   "cell_type": "code",
   "execution_count": 106,
   "metadata": {},
   "outputs": [
    {
     "data": {
      "text/plain": [
       "<matplotlib.axes._subplots.AxesSubplot at 0x17e2685e550>"
      ]
     },
     "execution_count": 106,
     "metadata": {},
     "output_type": "execute_result"
    },
    {
     "data": {
      "image/png": "[encoded data removed]",
      "text/plain": [
       "<Figure size 432x288 with 1 Axes>"
      ]
     },
     "metadata": {
      "needs_background": "light"
     },
     "output_type": "display_data"
    }
   ],
   "source": [
    "pd.cut(df.gdp_for_year, 20 ).value_counts(sort = False).plot.bar()"
   ]
  },
  {
   "cell_type": "markdown",
   "metadata": {},
   "source": [
    "Generation - The distribution for generation should be uniform, because each genration should be represented the same number of times. However, from the plot below we can see that some of the generations are not evenly distributed.  "
   ]
  },
  {
   "cell_type": "code",
   "execution_count": 113,
   "metadata": {},
   "outputs": [
    {
     "data": {
      "text/plain": [
       "<matplotlib.axes._subplots.AxesSubplot at 0x17e2681a5c0>"
      ]
     },
     "execution_count": 113,
     "metadata": {},
     "output_type": "execute_result"
    },
    {
     "data": {
      "image/png": "[encoded data removed]",
      "text/plain": [
       "<Figure size 432x288 with 1 Axes>"
      ]
     },
     "metadata": {
      "needs_background": "light"
     },
     "output_type": "display_data"
    }
   ],
   "source": [
    "df.generation.value_counts(sort = True).plot.bar()"
   ]
  },
  {
   "cell_type": "code",
   "execution_count": 55,
   "metadata": {},
   "outputs": [
    {
     "data": {
      "text/plain": [
       "year                 2.001258e+03\n",
       "suicides_no          2.425744e+02\n",
       "population           1.844794e+06\n",
       "suicides_per_100K    1.281610e+01\n",
       "gdp_per_capita       1.686646e+04\n",
       "dtype: float64"
      ]
     },
     "execution_count": 55,
     "metadata": {},
     "output_type": "execute_result"
    }
   ],
   "source": [
    "# Mean of all of the numeric values\n",
    "df.mean(numeric_only = True)"
   ]
  },
  {
   "cell_type": "code",
   "execution_count": 56,
   "metadata": {},
   "outputs": [
    {
     "data": {
      "text/plain": [
       "year                 8.469055e+00\n",
       "suicides_no          9.020479e+02\n",
       "population           3.911779e+06\n",
       "suicides_per_100K    1.896151e+01\n",
       "gdp_per_capita       1.888758e+04\n",
       "dtype: float64"
      ]
     },
     "execution_count": 56,
     "metadata": {},
     "output_type": "execute_result"
    }
   ],
   "source": [
    "# Standard deviation of all of the numeric values\n",
    "df.std(numeric_only = True)"
   ]
  },
  {
   "cell_type": "markdown",
   "metadata": {},
   "source": [
    "___"
   ]
  },
  {
   "cell_type": "markdown",
   "metadata": {},
   "source": [
    "##### 3. Identify the target audience for your work \n",
    "While this work could be helpful for the general public, it should be targeted toward public health and saftey experts. Public health and saftey works may include works for local public health agencies, the CDC, or local suicide prevention groups. These are people in postions of being able to help prevent suicide. Informing these people of thier target audience will help them target people in the most efficent way possible. \n",
    "\n",
    "This work can help inform policies and inutives that are working toward suicide prevention. The data will help show trends that describe which members of society, and countries in general are at greater risk of suicide. If workers know which countires, age groups, and sex to target, they can make teir marketing techniques match. \n",
    "\n",
    "Public health experts probable already know a great deal about suicides, and have a lot of background knowledge. While they may have some idea of trends, my analyis will give a deeper dive into the knowledge, and they will be able to more easily digest the information in a visual form.  \n",
    "___"
   ]
  },
  {
   "cell_type": "markdown",
   "metadata": {},
   "source": [
    "##### 4. Identify the questions that the audience might be curious about your data/visualization.\n",
    "The audience will be most curious about the groups at most risk to suicide. They will information such as the regions with the highest suicides rates, and which gender and age groups are at most risk. They will be most interested in the relationship between factors. \n",
    "    Q1. Which region has the highest suicide rates? \n",
    "    Q2. Is there a relationship between suicide rate and gender or age? \n",
    "___"
   ]
  },
  {
   "cell_type": "markdown",
   "metadata": {},
   "source": [
    "##### 5. Design (but not implement) how your visualization will look like.\n",
    "##### a.  What format of visualization you are going to use?\n",
    "    I will use a dashboard, and collection of visual aids to format my visualizations. \n",
    "##### b. Where do you plan to publish it?\n",
    "    I plan to publish my work to tableau public server. \n",
    "##### c. What tool(s) are you going to use for the visualization?\n",
    "    I am going to use python to manipulate the data, and Tableau to create my visualzations and dashboard. \n",
    "##### d.  What graph type(s) are you going to use?\n",
    "    The main (biggest) visualization that I create will be a map, showing the total number suicides per 100K by region. It will be similar to the earthquake data that we reviewed in class.\n",
    "    The next visualization will be a series of scatterplots that show the relationship between total number of suicides and gender and age. I beilve these are most important so that public saftey professionals can \n",
    "##### e. What data variables are you going to use?\n",
    "    I will use country, gdp_per_year, and susicide_no forthe map visualization. \n",
    "    I will use gender, no_suicide and age for the scatterplots. \n",
    "##### f. How are you going to map the data variables to the visual patterns?\n",
    "    For the map I will use size to represent the total number suicides that occur. I will then use color to show the distibution. I will use a second visual pattern, color, to show the average gdp_per_year for the region. \n",
    "       For the scatterplot, both axis will act as visual patterns, and if it is not overwhelming to the graph, I can add a third pattern of size. \n",
    "\n",
    "\n",
    "___"
   ]
  }
 ],
 "metadata": {
  "kernelspec": {
   "display_name": "Python 3",
   "language": "python",
   "name": "python3"
  },
  "language_info": {
   "codemirror_mode": {
    "name": "ipython",
    "version": 3
   },
   "file_extension": ".py",
   "mimetype": "text/x-python",
   "name": "python",
   "nbconvert_exporter": "python",
   "pygments_lexer": "ipython3",
   "version": "3.7.3"
  }
 },
 "nbformat": 4,
 "nbformat_minor": 2
}
